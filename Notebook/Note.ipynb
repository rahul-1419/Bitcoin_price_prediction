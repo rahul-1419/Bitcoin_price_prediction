{
 "cells": [
  {
   "cell_type": "code",
   "execution_count": 1,
   "id": "a5935a78",
   "metadata": {},
   "outputs": [],
   "source": [
    "import pandas as pd\n",
    "import numpy as np"
   ]
  },
  {
   "cell_type": "code",
   "execution_count": 9,
   "id": "658492e3",
   "metadata": {},
   "outputs": [],
   "source": [
    "df = pd.read_csv(r'C:\\Users\\HP\\Desktop\\Python\\Vs_Python\\Projects\\Bitcoin_price_prediction\\Dataset\\merged_output.csv')"
   ]
  },
  {
   "cell_type": "code",
   "execution_count": 10,
   "id": "476ee391",
   "metadata": {},
   "outputs": [
    {
     "data": {
      "text/html": [
       "<div>\n",
       "<style scoped>\n",
       "    .dataframe tbody tr th:only-of-type {\n",
       "        vertical-align: middle;\n",
       "    }\n",
       "\n",
       "    .dataframe tbody tr th {\n",
       "        vertical-align: top;\n",
       "    }\n",
       "\n",
       "    .dataframe thead th {\n",
       "        text-align: right;\n",
       "    }\n",
       "</style>\n",
       "<table border=\"1\" class=\"dataframe\">\n",
       "  <thead>\n",
       "    <tr style=\"text-align: right;\">\n",
       "      <th></th>\n",
       "      <th>timeOpen</th>\n",
       "      <th>timeClose</th>\n",
       "      <th>timeHigh</th>\n",
       "      <th>timeLow</th>\n",
       "      <th>name</th>\n",
       "      <th>open</th>\n",
       "      <th>high</th>\n",
       "      <th>low</th>\n",
       "      <th>close</th>\n",
       "      <th>volume</th>\n",
       "      <th>marketCap</th>\n",
       "      <th>timestamp</th>\n",
       "    </tr>\n",
       "  </thead>\n",
       "  <tbody>\n",
       "    <tr>\n",
       "      <th>0</th>\n",
       "      <td>2011-01-02T00:00:00.000Z</td>\n",
       "      <td>2011-01-02T23:59:59.999Z</td>\n",
       "      <td>2011-01-02T12:40:00.000Z</td>\n",
       "      <td>2011-01-02T00:53:00.000Z</td>\n",
       "      <td>2781</td>\n",
       "      <td>0.300264</td>\n",
       "      <td>0.367208</td>\n",
       "      <td>0.289348</td>\n",
       "      <td>0.300000</td>\n",
       "      <td>5350.48</td>\n",
       "      <td>1511302.50</td>\n",
       "      <td>2011-01-02T23:59:59.999Z</td>\n",
       "    </tr>\n",
       "    <tr>\n",
       "      <th>1</th>\n",
       "      <td>2011-01-03T00:00:00.000Z</td>\n",
       "      <td>2011-01-03T23:59:59.999Z</td>\n",
       "      <td>2011-01-03T01:44:00.000Z</td>\n",
       "      <td>2011-01-03T21:04:00.000Z</td>\n",
       "      <td>2781</td>\n",
       "      <td>0.300137</td>\n",
       "      <td>0.338386</td>\n",
       "      <td>0.277848</td>\n",
       "      <td>0.297348</td>\n",
       "      <td>1427.50</td>\n",
       "      <td>1500259.79</td>\n",
       "      <td>2011-01-03T23:59:59.999Z</td>\n",
       "    </tr>\n",
       "    <tr>\n",
       "      <th>2</th>\n",
       "      <td>2011-01-04T00:00:00.000Z</td>\n",
       "      <td>2011-01-04T23:59:59.999Z</td>\n",
       "      <td>2011-01-04T21:19:00.000Z</td>\n",
       "      <td>2011-01-04T01:47:00.000Z</td>\n",
       "      <td>2781</td>\n",
       "      <td>0.297227</td>\n",
       "      <td>0.310119</td>\n",
       "      <td>0.248605</td>\n",
       "      <td>0.299439</td>\n",
       "      <td>1883.39</td>\n",
       "      <td>1512924.00</td>\n",
       "      <td>2011-01-04T23:59:59.999Z</td>\n",
       "    </tr>\n",
       "    <tr>\n",
       "      <th>3</th>\n",
       "      <td>2011-01-05T00:00:00.000Z</td>\n",
       "      <td>2011-01-05T23:59:59.999Z</td>\n",
       "      <td>2011-01-05T01:49:00.000Z</td>\n",
       "      <td>2011-01-05T00:21:00.000Z</td>\n",
       "      <td>2781</td>\n",
       "      <td>0.300773</td>\n",
       "      <td>0.392055</td>\n",
       "      <td>0.288454</td>\n",
       "      <td>0.299252</td>\n",
       "      <td>356.98</td>\n",
       "      <td>1514282.20</td>\n",
       "      <td>2011-01-05T23:59:59.999Z</td>\n",
       "    </tr>\n",
       "    <tr>\n",
       "      <th>4</th>\n",
       "      <td>2011-01-06T00:00:00.000Z</td>\n",
       "      <td>2011-01-06T23:59:59.999Z</td>\n",
       "      <td>2011-01-06T00:24:00.000Z</td>\n",
       "      <td>2011-01-06T15:31:00.000Z</td>\n",
       "      <td>2781</td>\n",
       "      <td>0.299186</td>\n",
       "      <td>0.308228</td>\n",
       "      <td>0.254499</td>\n",
       "      <td>0.299292</td>\n",
       "      <td>3445.08</td>\n",
       "      <td>1516596.24</td>\n",
       "      <td>2011-01-06T23:59:59.999Z</td>\n",
       "    </tr>\n",
       "  </tbody>\n",
       "</table>\n",
       "</div>"
      ],
      "text/plain": [
       "                   timeOpen                 timeClose  \\\n",
       "0  2011-01-02T00:00:00.000Z  2011-01-02T23:59:59.999Z   \n",
       "1  2011-01-03T00:00:00.000Z  2011-01-03T23:59:59.999Z   \n",
       "2  2011-01-04T00:00:00.000Z  2011-01-04T23:59:59.999Z   \n",
       "3  2011-01-05T00:00:00.000Z  2011-01-05T23:59:59.999Z   \n",
       "4  2011-01-06T00:00:00.000Z  2011-01-06T23:59:59.999Z   \n",
       "\n",
       "                   timeHigh                   timeLow  name      open  \\\n",
       "0  2011-01-02T12:40:00.000Z  2011-01-02T00:53:00.000Z  2781  0.300264   \n",
       "1  2011-01-03T01:44:00.000Z  2011-01-03T21:04:00.000Z  2781  0.300137   \n",
       "2  2011-01-04T21:19:00.000Z  2011-01-04T01:47:00.000Z  2781  0.297227   \n",
       "3  2011-01-05T01:49:00.000Z  2011-01-05T00:21:00.000Z  2781  0.300773   \n",
       "4  2011-01-06T00:24:00.000Z  2011-01-06T15:31:00.000Z  2781  0.299186   \n",
       "\n",
       "       high       low     close   volume   marketCap                 timestamp  \n",
       "0  0.367208  0.289348  0.300000  5350.48  1511302.50  2011-01-02T23:59:59.999Z  \n",
       "1  0.338386  0.277848  0.297348  1427.50  1500259.79  2011-01-03T23:59:59.999Z  \n",
       "2  0.310119  0.248605  0.299439  1883.39  1512924.00  2011-01-04T23:59:59.999Z  \n",
       "3  0.392055  0.288454  0.299252   356.98  1514282.20  2011-01-05T23:59:59.999Z  \n",
       "4  0.308228  0.254499  0.299292  3445.08  1516596.24  2011-01-06T23:59:59.999Z  "
      ]
     },
     "execution_count": 10,
     "metadata": {},
     "output_type": "execute_result"
    }
   ],
   "source": [
    "df.head()"
   ]
  },
  {
   "cell_type": "code",
   "execution_count": 11,
   "id": "ffad5113",
   "metadata": {},
   "outputs": [
    {
     "data": {
      "text/plain": [
       "(5261, 12)"
      ]
     },
     "execution_count": 11,
     "metadata": {},
     "output_type": "execute_result"
    }
   ],
   "source": [
    "df.shape"
   ]
  },
  {
   "cell_type": "code",
   "execution_count": 12,
   "id": "37651cd3",
   "metadata": {},
   "outputs": [
    {
     "name": "stdout",
     "output_type": "stream",
     "text": [
      "<class 'pandas.core.frame.DataFrame'>\n",
      "RangeIndex: 5261 entries, 0 to 5260\n",
      "Data columns (total 12 columns):\n",
      " #   Column     Non-Null Count  Dtype  \n",
      "---  ------     --------------  -----  \n",
      " 0   timeOpen   5261 non-null   object \n",
      " 1   timeClose  5261 non-null   object \n",
      " 2   timeHigh   5261 non-null   object \n",
      " 3   timeLow    5261 non-null   object \n",
      " 4   name       5261 non-null   int64  \n",
      " 5   open       5261 non-null   float64\n",
      " 6   high       5261 non-null   float64\n",
      " 7   low        5261 non-null   float64\n",
      " 8   close      5261 non-null   float64\n",
      " 9   volume     5261 non-null   float64\n",
      " 10  marketCap  5261 non-null   float64\n",
      " 11  timestamp  5261 non-null   object \n",
      "dtypes: float64(6), int64(1), object(5)\n",
      "memory usage: 493.3+ KB\n"
     ]
    }
   ],
   "source": [
    "df.info()"
   ]
  },
  {
   "cell_type": "code",
   "execution_count": 13,
   "id": "4c299246",
   "metadata": {},
   "outputs": [],
   "source": [
    "df.drop(columns=['timeOpen','timeClose','timeHigh','timeLow','name'],inplace=True)"
   ]
  },
  {
   "cell_type": "code",
   "execution_count": 21,
   "id": "01574870",
   "metadata": {},
   "outputs": [],
   "source": [
    "df['timestamp'] = pd.to_datetime(df['timestamp'])"
   ]
  },
  {
   "cell_type": "code",
   "execution_count": 25,
   "id": "1c18db0b",
   "metadata": {},
   "outputs": [],
   "source": [
    "df['Year'] = df['timestamp'].dt.year\n",
    "df['Month'] = df['timestamp'].dt.month\n",
    "df['Day'] = df['timestamp'].dt.day"
   ]
  },
  {
   "cell_type": "code",
   "execution_count": 30,
   "id": "6c97afdb",
   "metadata": {},
   "outputs": [],
   "source": [
    "df = df.drop('timestamp',axis=1)"
   ]
  },
  {
   "cell_type": "code",
   "execution_count": 32,
   "id": "6ea4ead5",
   "metadata": {},
   "outputs": [
    {
     "data": {
      "text/plain": [
       "open         0\n",
       "high         0\n",
       "low          0\n",
       "close        0\n",
       "volume       0\n",
       "marketCap    0\n",
       "Year         0\n",
       "Month        0\n",
       "Day          0\n",
       "dtype: int64"
      ]
     },
     "execution_count": 32,
     "metadata": {},
     "output_type": "execute_result"
    }
   ],
   "source": [
    "df.isnull().sum()"
   ]
  },
  {
   "cell_type": "code",
   "execution_count": 35,
   "id": "e6bc3ed3",
   "metadata": {},
   "outputs": [
    {
     "data": {
      "text/plain": [
       "np.int64(0)"
      ]
     },
     "execution_count": 35,
     "metadata": {},
     "output_type": "execute_result"
    }
   ],
   "source": [
    "df.duplicated().sum()"
   ]
  },
  {
   "cell_type": "code",
   "execution_count": 36,
   "id": "2f68f217",
   "metadata": {},
   "outputs": [
    {
     "data": {
      "text/html": [
       "<div>\n",
       "<style scoped>\n",
       "    .dataframe tbody tr th:only-of-type {\n",
       "        vertical-align: middle;\n",
       "    }\n",
       "\n",
       "    .dataframe tbody tr th {\n",
       "        vertical-align: top;\n",
       "    }\n",
       "\n",
       "    .dataframe thead th {\n",
       "        text-align: right;\n",
       "    }\n",
       "</style>\n",
       "<table border=\"1\" class=\"dataframe\">\n",
       "  <thead>\n",
       "    <tr style=\"text-align: right;\">\n",
       "      <th></th>\n",
       "      <th>open</th>\n",
       "      <th>high</th>\n",
       "      <th>low</th>\n",
       "      <th>close</th>\n",
       "      <th>volume</th>\n",
       "      <th>marketCap</th>\n",
       "      <th>Year</th>\n",
       "      <th>Month</th>\n",
       "      <th>Day</th>\n",
       "    </tr>\n",
       "  </thead>\n",
       "  <tbody>\n",
       "    <tr>\n",
       "      <th>count</th>\n",
       "      <td>5261.000000</td>\n",
       "      <td>5261.000000</td>\n",
       "      <td>5261.000000</td>\n",
       "      <td>5261.000000</td>\n",
       "      <td>5.261000e+03</td>\n",
       "      <td>5.261000e+03</td>\n",
       "      <td>5261.000000</td>\n",
       "      <td>5261.000000</td>\n",
       "      <td>5261.000000</td>\n",
       "    </tr>\n",
       "    <tr>\n",
       "      <th>mean</th>\n",
       "      <td>16659.732124</td>\n",
       "      <td>17025.196297</td>\n",
       "      <td>16277.933456</td>\n",
       "      <td>16679.358189</td>\n",
       "      <td>1.448865e+10</td>\n",
       "      <td>3.193522e+11</td>\n",
       "      <td>2017.712602</td>\n",
       "      <td>6.423684</td>\n",
       "      <td>15.722486</td>\n",
       "    </tr>\n",
       "    <tr>\n",
       "      <th>std</th>\n",
       "      <td>24379.836226</td>\n",
       "      <td>24885.213663</td>\n",
       "      <td>23855.264950</td>\n",
       "      <td>24409.869713</td>\n",
       "      <td>1.994806e+10</td>\n",
       "      <td>4.790347e+11</td>\n",
       "      <td>4.163106</td>\n",
       "      <td>3.458186</td>\n",
       "      <td>8.794451</td>\n",
       "    </tr>\n",
       "    <tr>\n",
       "      <th>min</th>\n",
       "      <td>0.297227</td>\n",
       "      <td>0.308228</td>\n",
       "      <td>0.248605</td>\n",
       "      <td>0.297348</td>\n",
       "      <td>0.000000e+00</td>\n",
       "      <td>1.500260e+06</td>\n",
       "      <td>2011.000000</td>\n",
       "      <td>1.000000</td>\n",
       "      <td>1.000000</td>\n",
       "    </tr>\n",
       "    <tr>\n",
       "      <th>25%</th>\n",
       "      <td>285.066986</td>\n",
       "      <td>292.364990</td>\n",
       "      <td>281.010986</td>\n",
       "      <td>285.505005</td>\n",
       "      <td>1.734490e+07</td>\n",
       "      <td>4.063305e+09</td>\n",
       "      <td>2014.000000</td>\n",
       "      <td>3.000000</td>\n",
       "      <td>8.000000</td>\n",
       "    </tr>\n",
       "    <tr>\n",
       "      <th>50%</th>\n",
       "      <td>5251.480692</td>\n",
       "      <td>5359.925030</td>\n",
       "      <td>5167.419058</td>\n",
       "      <td>5268.291063</td>\n",
       "      <td>4.372764e+09</td>\n",
       "      <td>9.308616e+10</td>\n",
       "      <td>2018.000000</td>\n",
       "      <td>6.000000</td>\n",
       "      <td>16.000000</td>\n",
       "    </tr>\n",
       "    <tr>\n",
       "      <th>75%</th>\n",
       "      <td>26047.235240</td>\n",
       "      <td>26409.303010</td>\n",
       "      <td>25728.365570</td>\n",
       "      <td>26049.556900</td>\n",
       "      <td>2.523085e+10</td>\n",
       "      <td>5.060000e+11</td>\n",
       "      <td>2021.000000</td>\n",
       "      <td>9.000000</td>\n",
       "      <td>23.000000</td>\n",
       "    </tr>\n",
       "    <tr>\n",
       "      <th>max</th>\n",
       "      <td>111679.356300</td>\n",
       "      <td>111970.168100</td>\n",
       "      <td>109285.072400</td>\n",
       "      <td>111673.284000</td>\n",
       "      <td>3.510000e+11</td>\n",
       "      <td>2.220000e+12</td>\n",
       "      <td>2025.000000</td>\n",
       "      <td>12.000000</td>\n",
       "      <td>31.000000</td>\n",
       "    </tr>\n",
       "  </tbody>\n",
       "</table>\n",
       "</div>"
      ],
      "text/plain": [
       "                open           high            low          close  \\\n",
       "count    5261.000000    5261.000000    5261.000000    5261.000000   \n",
       "mean    16659.732124   17025.196297   16277.933456   16679.358189   \n",
       "std     24379.836226   24885.213663   23855.264950   24409.869713   \n",
       "min         0.297227       0.308228       0.248605       0.297348   \n",
       "25%       285.066986     292.364990     281.010986     285.505005   \n",
       "50%      5251.480692    5359.925030    5167.419058    5268.291063   \n",
       "75%     26047.235240   26409.303010   25728.365570   26049.556900   \n",
       "max    111679.356300  111970.168100  109285.072400  111673.284000   \n",
       "\n",
       "             volume     marketCap         Year        Month          Day  \n",
       "count  5.261000e+03  5.261000e+03  5261.000000  5261.000000  5261.000000  \n",
       "mean   1.448865e+10  3.193522e+11  2017.712602     6.423684    15.722486  \n",
       "std    1.994806e+10  4.790347e+11     4.163106     3.458186     8.794451  \n",
       "min    0.000000e+00  1.500260e+06  2011.000000     1.000000     1.000000  \n",
       "25%    1.734490e+07  4.063305e+09  2014.000000     3.000000     8.000000  \n",
       "50%    4.372764e+09  9.308616e+10  2018.000000     6.000000    16.000000  \n",
       "75%    2.523085e+10  5.060000e+11  2021.000000     9.000000    23.000000  \n",
       "max    3.510000e+11  2.220000e+12  2025.000000    12.000000    31.000000  "
      ]
     },
     "execution_count": 36,
     "metadata": {},
     "output_type": "execute_result"
    }
   ],
   "source": [
    "df.describe()"
   ]
  },
  {
   "cell_type": "code",
   "execution_count": 38,
   "id": "e6a43075",
   "metadata": {},
   "outputs": [],
   "source": [
    "corr = df.corr()"
   ]
  },
  {
   "cell_type": "code",
   "execution_count": null,
   "id": "2a4b9924",
   "metadata": {},
   "outputs": [],
   "source": []
  }
 ],
 "metadata": {
  "kernelspec": {
   "display_name": "Python 3",
   "language": "python",
   "name": "python3"
  },
  "language_info": {
   "codemirror_mode": {
    "name": "ipython",
    "version": 3
   },
   "file_extension": ".py",
   "mimetype": "text/x-python",
   "name": "python",
   "nbconvert_exporter": "python",
   "pygments_lexer": "ipython3",
   "version": "3.10.18"
  }
 },
 "nbformat": 4,
 "nbformat_minor": 5
}
